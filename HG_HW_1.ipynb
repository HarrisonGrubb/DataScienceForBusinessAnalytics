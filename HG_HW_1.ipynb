{
  "nbformat": 4,
  "nbformat_minor": 0,
  "metadata": {
    "kernelspec": {
      "display_name": "Python 3",
      "language": "python",
      "name": "python3"
    },
    "language_info": {
      "codemirror_mode": {
        "name": "ipython",
        "version": 3
      },
      "file_extension": ".py",
      "mimetype": "text/x-python",
      "name": "python",
      "nbconvert_exporter": "python",
      "pygments_lexer": "ipython3",
      "version": "3.6.9"
    },
    "colab": {
      "name": "HG HW 1.ipynb",
      "provenance": [],
      "collapsed_sections": [],
      "include_colab_link": true
    }
  },
  "cells": [
    {
      "cell_type": "markdown",
      "metadata": {
        "id": "view-in-github",
        "colab_type": "text"
      },
      "source": [
        "<a href=\"https://colab.research.google.com/github/HarrisonGrubb/DataScienceForBusinessAnalytics/blob/master/HG_HW_1.ipynb\" target=\"_parent\"><img src=\"https://colab.research.google.com/assets/colab-badge.svg\" alt=\"Open In Colab\"/></a>"
      ]
    },
    {
      "cell_type": "markdown",
      "metadata": {
        "id": "kEqPilSMbbND",
        "colab_type": "text"
      },
      "source": [
        "To open notebook in Colab please click below:\n",
        "\n",
        "<a href=\"https://colab.research.google.com/github/bwolfson2/foster_2020/blob/master/Homeworks/HW%201.ipynb\" target=\"_parent\"> <img src=\"https://colab.research.google.com/assets/colab-badge.svg\" alt=\"Open In Colab\" /> </a>'"
      ]
    },
    {
      "cell_type": "code",
      "metadata": {
        "scrolled": true,
        "id": "O9Vn11xTbbNH",
        "colab_type": "code",
        "outputId": "19f8da5b-820b-435a-ea6c-6692e4443494",
        "colab": {
          "base_uri": "https://localhost:8080/",
          "height": 173
        }
      },
      "source": [
        "#If opening in colab run this cell\n",
        "!git clone https://github.com/bwolfson2/foster_2020\n",
        "%cd foster_2020/Homeworks/"
      ],
      "execution_count": 1,
      "outputs": [
        {
          "output_type": "stream",
          "text": [
            "Cloning into 'foster_2020'...\n",
            "remote: Enumerating objects: 92, done.\u001b[K\n",
            "remote: Counting objects: 100% (92/92), done.\u001b[K\n",
            "remote: Compressing objects: 100% (80/80), done.\u001b[K\n",
            "remote: Total 201 (delta 17), reused 81 (delta 7), pack-reused 109\u001b[K\n",
            "Receiving objects: 100% (201/201), 54.10 MiB | 19.01 MiB/s, done.\n",
            "Resolving deltas: 100% (56/56), done.\n",
            "Checking out files: 100% (94/94), done.\n",
            "/content/foster_2020/Homeworks\n"
          ],
          "name": "stdout"
        }
      ]
    },
    {
      "cell_type": "markdown",
      "metadata": {
        "id": "MZwN8n2BXAuq",
        "colab_type": "text"
      },
      "source": [
        ""
      ]
    },
    {
      "cell_type": "markdown",
      "metadata": {
        "id": "rD3fcOcpbbNK",
        "colab_type": "text"
      },
      "source": [
        "# Homework 1"
      ]
    },
    {
      "cell_type": "markdown",
      "metadata": {
        "id": "6LtGm3wAbbNM",
        "colab_type": "text"
      },
      "source": [
        "## Part 1: Conceptual exercises"
      ]
    },
    {
      "cell_type": "markdown",
      "metadata": {
        "id": "eAaaplTlbbNN",
        "colab_type": "text"
      },
      "source": [
        "** 1. In 2-4 sentences, differentiate “Data Science” and “Big Data”, and also tell how they are related. **"
      ]
    },
    {
      "cell_type": "markdown",
      "metadata": {
        "id": "NhCMeVwqbbNO",
        "colab_type": "text"
      },
      "source": [
        "Data science is the automated process of extracting patterns from a data set.  Big data refers to the amount and variety of data our modern technololgies allow us to caputre, process, and store that data.  The two concepts are related because data science leverages the variety and scale of data maintained by big data technologies. Where the two differ is one is more focused on storage and processing while the other is about extracting insights."
      ]
    },
    {
      "cell_type": "markdown",
      "metadata": {
        "id": "EH4EFRaObbNP",
        "colab_type": "text"
      },
      "source": [
        "** 2. MTC (MegaTelCo) has decided to use supervised learning to address its problem of churn in its wireless phone business.  As a consultant to MTC, you realize that a main task in the business understanding/data understanding phases of the data mining process is to define the target variable.  In one or two sentences, please suggest a definition for the target variable.  Be as precise as possible—someone else will be implementing your suggestion.  (Remember: it should make sense from a business point of view, and it should be reasonable that MTC would have data available to know the value of the target variable for historical customers.) **"
      ]
    },
    {
      "cell_type": "markdown",
      "metadata": {
        "id": "rXofbmlxbbNP",
        "colab_type": "text"
      },
      "source": [
        "The target variable would be the probability that a customer stops paying MegaTelCo within 60 days of their contract expiring.  I chose 60 days primarily because 30 may be too soon to tell if they indeed left, while 90 days is likely too long to effectively intervene.    "
      ]
    },
    {
      "cell_type": "markdown",
      "metadata": {
        "id": "e91PklgObbNQ",
        "colab_type": "text"
      },
      "source": [
        "## Part 2: Graduate admissions case study"
      ]
    },
    {
      "cell_type": "markdown",
      "metadata": {
        "id": "wcpfQyTGbbNS",
        "colab_type": "text"
      },
      "source": [
        "You've been hired by Hudson University as a data analyst for the Graduate Admissions Department. Since the admission process is long and tedious, it often results in a bottleneck for other subsequent tasks, such as planning the necessary resources to accommodate the admitted students (e.g. housing, classes, etc). You have been asked to build a model to predict which students will be admitted using the following historical data: \n",
        "\n",
        "1. Serial No. (serves as unique identifier)\n",
        "2. GRE Scores (out of 340) \n",
        "3. TOEFL Scores (out of 120) \n",
        "4. University Rating (out of 5).\n",
        "5. Statement of Purpose Strength (out of 5)\n",
        "6. Letter of Recommendation Strength (out of 5) \n",
        "7. Undergraduate GPA (out of 10) \n",
        "8. Research Experience (either 0 or 1) \n",
        "9. Chance of Admit (ranging from 0 to 1)\n",
        "\n",
        "The chances of admit for the applicants in your data were assessed by an expert. Given that this list of application attributes would be available early in the admission process for future applications (except for Chance of Admit), a model predicting chances of admit would allow planning tasks to start earlier."
      ]
    },
    {
      "cell_type": "code",
      "metadata": {
        "id": "FXbbUDtPbbNS",
        "colab_type": "code",
        "colab": {}
      },
      "source": [
        "# Some libraries you may need\n",
        "import pandas as pd\n",
        "import numpy as np\n",
        "import matplotlib.pyplot as plt\n",
        "import seaborn as sns\n",
        "\n",
        "# Trick to display plots inline with the rest of your notebook.\n",
        "%matplotlib inline"
      ],
      "execution_count": 0,
      "outputs": []
    },
    {
      "cell_type": "markdown",
      "metadata": {
        "id": "p4IETNy4bbNW",
        "colab_type": "text"
      },
      "source": [
        "** 1. Load the homework data into a pandas data frame. Print the number of rows and columns in the dataset. **"
      ]
    },
    {
      "cell_type": "code",
      "metadata": {
        "id": "yRq4BLsfbbNW",
        "colab_type": "code",
        "outputId": "7fc0cb35-21ff-4ff7-d8de-95ccba635776",
        "colab": {
          "base_uri": "https://localhost:8080/",
          "height": 35
        }
      },
      "source": [
        "data_path = \"./data/data-hw1.csv\"\n",
        "student_data = pd.read_csv(data_path)\n",
        "print('there are', student_data.shape[0],'rows and',student_data.shape[1],'columns')"
      ],
      "execution_count": 3,
      "outputs": [
        {
          "output_type": "stream",
          "text": [
            "there are 500 rows and 9 columns\n"
          ],
          "name": "stdout"
        }
      ]
    },
    {
      "cell_type": "markdown",
      "metadata": {
        "id": "L_52LgMQbbNa",
        "colab_type": "text"
      },
      "source": [
        "(Optional) Rename the columns in the dataframe to manipulate the data more easily. No extra points for this, but it might make your life easier."
      ]
    },
    {
      "cell_type": "code",
      "metadata": {
        "id": "YkQ3doY8bbNb",
        "colab_type": "code",
        "outputId": "13fca953-79ad-4389-e25b-75ba128db82a",
        "colab": {
          "base_uri": "https://localhost:8080/",
          "height": 202
        }
      },
      "source": [
        "\n",
        "student_data.columns = [\"ID\", \"GRE\", \"TOEFL\", \"Rating\", \"SOP\", \"LOR\", \"CGPA\", \"Research\", \"Admit\"]\n",
        "student_data.head()"
      ],
      "execution_count": 4,
      "outputs": [
        {
          "output_type": "execute_result",
          "data": {
            "text/html": [
              "<div>\n",
              "<style scoped>\n",
              "    .dataframe tbody tr th:only-of-type {\n",
              "        vertical-align: middle;\n",
              "    }\n",
              "\n",
              "    .dataframe tbody tr th {\n",
              "        vertical-align: top;\n",
              "    }\n",
              "\n",
              "    .dataframe thead th {\n",
              "        text-align: right;\n",
              "    }\n",
              "</style>\n",
              "<table border=\"1\" class=\"dataframe\">\n",
              "  <thead>\n",
              "    <tr style=\"text-align: right;\">\n",
              "      <th></th>\n",
              "      <th>ID</th>\n",
              "      <th>GRE</th>\n",
              "      <th>TOEFL</th>\n",
              "      <th>Rating</th>\n",
              "      <th>SOP</th>\n",
              "      <th>LOR</th>\n",
              "      <th>CGPA</th>\n",
              "      <th>Research</th>\n",
              "      <th>Admit</th>\n",
              "    </tr>\n",
              "  </thead>\n",
              "  <tbody>\n",
              "    <tr>\n",
              "      <th>0</th>\n",
              "      <td>1</td>\n",
              "      <td>337</td>\n",
              "      <td>118</td>\n",
              "      <td>4</td>\n",
              "      <td>4.5</td>\n",
              "      <td>4.5</td>\n",
              "      <td>9.65</td>\n",
              "      <td>1</td>\n",
              "      <td>0.92</td>\n",
              "    </tr>\n",
              "    <tr>\n",
              "      <th>1</th>\n",
              "      <td>2</td>\n",
              "      <td>324</td>\n",
              "      <td>107</td>\n",
              "      <td>4</td>\n",
              "      <td>4.0</td>\n",
              "      <td>4.5</td>\n",
              "      <td>8.87</td>\n",
              "      <td>1</td>\n",
              "      <td>0.76</td>\n",
              "    </tr>\n",
              "    <tr>\n",
              "      <th>2</th>\n",
              "      <td>3</td>\n",
              "      <td>316</td>\n",
              "      <td>104</td>\n",
              "      <td>3</td>\n",
              "      <td>3.0</td>\n",
              "      <td>3.5</td>\n",
              "      <td>8.00</td>\n",
              "      <td>1</td>\n",
              "      <td>0.72</td>\n",
              "    </tr>\n",
              "    <tr>\n",
              "      <th>3</th>\n",
              "      <td>4</td>\n",
              "      <td>322</td>\n",
              "      <td>110</td>\n",
              "      <td>3</td>\n",
              "      <td>3.5</td>\n",
              "      <td>2.5</td>\n",
              "      <td>8.67</td>\n",
              "      <td>1</td>\n",
              "      <td>0.80</td>\n",
              "    </tr>\n",
              "    <tr>\n",
              "      <th>4</th>\n",
              "      <td>5</td>\n",
              "      <td>314</td>\n",
              "      <td>103</td>\n",
              "      <td>2</td>\n",
              "      <td>2.0</td>\n",
              "      <td>3.0</td>\n",
              "      <td>8.21</td>\n",
              "      <td>0</td>\n",
              "      <td>0.65</td>\n",
              "    </tr>\n",
              "  </tbody>\n",
              "</table>\n",
              "</div>"
            ],
            "text/plain": [
              "   ID  GRE  TOEFL  Rating  SOP  LOR  CGPA  Research  Admit\n",
              "0   1  337    118       4  4.5  4.5  9.65         1   0.92\n",
              "1   2  324    107       4  4.0  4.5  8.87         1   0.76\n",
              "2   3  316    104       3  3.0  3.5  8.00         1   0.72\n",
              "3   4  322    110       3  3.5  2.5  8.67         1   0.80\n",
              "4   5  314    103       2  2.0  3.0  8.21         0   0.65"
            ]
          },
          "metadata": {
            "tags": []
          },
          "execution_count": 4
        }
      ]
    },
    {
      "cell_type": "markdown",
      "metadata": {
        "id": "tpc1x2Y2bbNe",
        "colab_type": "text"
      },
      "source": [
        "** 2. Show descriptive statistics for all columns. **"
      ]
    },
    {
      "cell_type": "code",
      "metadata": {
        "scrolled": true,
        "id": "50vwLIvjbbNf",
        "colab_type": "code",
        "outputId": "b2f2a106-5e6e-4275-bac6-ba89d4d8348f",
        "colab": {
          "base_uri": "https://localhost:8080/",
          "height": 294
        }
      },
      "source": [
        "student_data.describe()"
      ],
      "execution_count": 5,
      "outputs": [
        {
          "output_type": "execute_result",
          "data": {
            "text/html": [
              "<div>\n",
              "<style scoped>\n",
              "    .dataframe tbody tr th:only-of-type {\n",
              "        vertical-align: middle;\n",
              "    }\n",
              "\n",
              "    .dataframe tbody tr th {\n",
              "        vertical-align: top;\n",
              "    }\n",
              "\n",
              "    .dataframe thead th {\n",
              "        text-align: right;\n",
              "    }\n",
              "</style>\n",
              "<table border=\"1\" class=\"dataframe\">\n",
              "  <thead>\n",
              "    <tr style=\"text-align: right;\">\n",
              "      <th></th>\n",
              "      <th>ID</th>\n",
              "      <th>GRE</th>\n",
              "      <th>TOEFL</th>\n",
              "      <th>Rating</th>\n",
              "      <th>SOP</th>\n",
              "      <th>LOR</th>\n",
              "      <th>CGPA</th>\n",
              "      <th>Research</th>\n",
              "      <th>Admit</th>\n",
              "    </tr>\n",
              "  </thead>\n",
              "  <tbody>\n",
              "    <tr>\n",
              "      <th>count</th>\n",
              "      <td>500.000000</td>\n",
              "      <td>500.000000</td>\n",
              "      <td>500.000000</td>\n",
              "      <td>500.000000</td>\n",
              "      <td>500.000000</td>\n",
              "      <td>500.00000</td>\n",
              "      <td>500.000000</td>\n",
              "      <td>500.000000</td>\n",
              "      <td>500.00000</td>\n",
              "    </tr>\n",
              "    <tr>\n",
              "      <th>mean</th>\n",
              "      <td>250.500000</td>\n",
              "      <td>316.472000</td>\n",
              "      <td>107.192000</td>\n",
              "      <td>3.114000</td>\n",
              "      <td>3.374000</td>\n",
              "      <td>3.48400</td>\n",
              "      <td>8.576440</td>\n",
              "      <td>0.560000</td>\n",
              "      <td>0.72174</td>\n",
              "    </tr>\n",
              "    <tr>\n",
              "      <th>std</th>\n",
              "      <td>144.481833</td>\n",
              "      <td>11.295148</td>\n",
              "      <td>6.081868</td>\n",
              "      <td>1.143512</td>\n",
              "      <td>0.991004</td>\n",
              "      <td>0.92545</td>\n",
              "      <td>0.604813</td>\n",
              "      <td>0.496884</td>\n",
              "      <td>0.14114</td>\n",
              "    </tr>\n",
              "    <tr>\n",
              "      <th>min</th>\n",
              "      <td>1.000000</td>\n",
              "      <td>290.000000</td>\n",
              "      <td>92.000000</td>\n",
              "      <td>1.000000</td>\n",
              "      <td>1.000000</td>\n",
              "      <td>1.00000</td>\n",
              "      <td>6.800000</td>\n",
              "      <td>0.000000</td>\n",
              "      <td>0.34000</td>\n",
              "    </tr>\n",
              "    <tr>\n",
              "      <th>25%</th>\n",
              "      <td>125.750000</td>\n",
              "      <td>308.000000</td>\n",
              "      <td>103.000000</td>\n",
              "      <td>2.000000</td>\n",
              "      <td>2.500000</td>\n",
              "      <td>3.00000</td>\n",
              "      <td>8.127500</td>\n",
              "      <td>0.000000</td>\n",
              "      <td>0.63000</td>\n",
              "    </tr>\n",
              "    <tr>\n",
              "      <th>50%</th>\n",
              "      <td>250.500000</td>\n",
              "      <td>317.000000</td>\n",
              "      <td>107.000000</td>\n",
              "      <td>3.000000</td>\n",
              "      <td>3.500000</td>\n",
              "      <td>3.50000</td>\n",
              "      <td>8.560000</td>\n",
              "      <td>1.000000</td>\n",
              "      <td>0.72000</td>\n",
              "    </tr>\n",
              "    <tr>\n",
              "      <th>75%</th>\n",
              "      <td>375.250000</td>\n",
              "      <td>325.000000</td>\n",
              "      <td>112.000000</td>\n",
              "      <td>4.000000</td>\n",
              "      <td>4.000000</td>\n",
              "      <td>4.00000</td>\n",
              "      <td>9.040000</td>\n",
              "      <td>1.000000</td>\n",
              "      <td>0.82000</td>\n",
              "    </tr>\n",
              "    <tr>\n",
              "      <th>max</th>\n",
              "      <td>500.000000</td>\n",
              "      <td>340.000000</td>\n",
              "      <td>120.000000</td>\n",
              "      <td>5.000000</td>\n",
              "      <td>5.000000</td>\n",
              "      <td>5.00000</td>\n",
              "      <td>9.920000</td>\n",
              "      <td>1.000000</td>\n",
              "      <td>0.97000</td>\n",
              "    </tr>\n",
              "  </tbody>\n",
              "</table>\n",
              "</div>"
            ],
            "text/plain": [
              "               ID         GRE       TOEFL  ...        CGPA    Research      Admit\n",
              "count  500.000000  500.000000  500.000000  ...  500.000000  500.000000  500.00000\n",
              "mean   250.500000  316.472000  107.192000  ...    8.576440    0.560000    0.72174\n",
              "std    144.481833   11.295148    6.081868  ...    0.604813    0.496884    0.14114\n",
              "min      1.000000  290.000000   92.000000  ...    6.800000    0.000000    0.34000\n",
              "25%    125.750000  308.000000  103.000000  ...    8.127500    0.000000    0.63000\n",
              "50%    250.500000  317.000000  107.000000  ...    8.560000    1.000000    0.72000\n",
              "75%    375.250000  325.000000  112.000000  ...    9.040000    1.000000    0.82000\n",
              "max    500.000000  340.000000  120.000000  ...    9.920000    1.000000    0.97000\n",
              "\n",
              "[8 rows x 9 columns]"
            ]
          },
          "metadata": {
            "tags": []
          },
          "execution_count": 5
        }
      ]
    },
    {
      "cell_type": "markdown",
      "metadata": {
        "id": "YkSsasytbbNi",
        "colab_type": "text"
      },
      "source": [
        "(Optional 2) Drop the column \"Serial No\". Again, no extra points for this, but it might be helpful to visualize things later on."
      ]
    },
    {
      "cell_type": "code",
      "metadata": {
        "id": "roIoXxlObbNj",
        "colab_type": "code",
        "colab": {}
      },
      "source": [
        "student_data = student_data.drop(['ID'], axis= 1)"
      ],
      "execution_count": 0,
      "outputs": []
    },
    {
      "cell_type": "markdown",
      "metadata": {
        "id": "5fyu2-brbbNp",
        "colab_type": "text"
      },
      "source": [
        "** 3. What is the distribution of the chances of admit? Plot an histogram of this variable. **"
      ]
    },
    {
      "cell_type": "code",
      "metadata": {
        "id": "NggheC2hbbNq",
        "colab_type": "code",
        "outputId": "fe252e41-3ec3-41a6-8ec4-34e79592d42f",
        "colab": {
          "base_uri": "https://localhost:8080/",
          "height": 283
        }
      },
      "source": [
        "student_data['Admit'].hist()"
      ],
      "execution_count": 7,
      "outputs": [
        {
          "output_type": "execute_result",
          "data": {
            "text/plain": [
              "<matplotlib.axes._subplots.AxesSubplot at 0x7f20485c3668>"
            ]
          },
          "metadata": {
            "tags": []
          },
          "execution_count": 7
        },
        {
          "output_type": "display_data",
          "data": {
            "image/png": "[encoded data removed]",
            "text/plain": [
              "<Figure size 432x288 with 1 Axes>"
            ]
          },
          "metadata": {
            "tags": []
          }
        }
      ]
    },
    {
      "cell_type": "markdown",
      "metadata": {
        "id": "iMQcYXpabbNt",
        "colab_type": "text"
      },
      "source": [
        "** 4. Chances of admit seem to vary quite a bit. How much of this depends on the quality of the university that the applicant attended? Print the average chance of admit per university rating. **"
      ]
    },
    {
      "cell_type": "code",
      "metadata": {
        "id": "4sdutCn8bbNt",
        "colab_type": "code",
        "outputId": "9b95fa6d-704d-4f48-dba6-3bb633ee93a5",
        "colab": {
          "base_uri": "https://localhost:8080/",
          "height": 139
        }
      },
      "source": [
        "student_data.groupby('Rating').Admit.mean()"
      ],
      "execution_count": 8,
      "outputs": [
        {
          "output_type": "execute_result",
          "data": {
            "text/plain": [
              "Rating\n",
              "1    0.562059\n",
              "2    0.626111\n",
              "3    0.702901\n",
              "4    0.801619\n",
              "5    0.888082\n",
              "Name: Admit, dtype: float64"
            ]
          },
          "metadata": {
            "tags": []
          },
          "execution_count": 8
        }
      ]
    },
    {
      "cell_type": "markdown",
      "metadata": {
        "id": "aiDecROibbNw",
        "colab_type": "text"
      },
      "source": [
        "** 5. Does the distribution of chances of admit change with university rating? Plot an histogram of chances of admit for each university rating. **"
      ]
    },
    {
      "cell_type": "code",
      "metadata": {
        "id": "6WkVnF-rbbNx",
        "colab_type": "code",
        "outputId": "9289a211-f593-4026-fca1-d66f6c851863",
        "colab": {
          "base_uri": "https://localhost:8080/",
          "height": 407
        }
      },
      "source": [
        "student_data.hist('Admit',by='Rating')\n",
        "# Yes it appears the chances of admission change with the quality of university"
      ],
      "execution_count": 9,
      "outputs": [
        {
          "output_type": "execute_result",
          "data": {
            "text/plain": [
              "array([[<matplotlib.axes._subplots.AxesSubplot object at 0x7f204805c0b8>,\n",
              "        <matplotlib.axes._subplots.AxesSubplot object at 0x7f2048094278>],\n",
              "       [<matplotlib.axes._subplots.AxesSubplot object at 0x7f2048046828>,\n",
              "        <matplotlib.axes._subplots.AxesSubplot object at 0x7f2047ff6dd8>],\n",
              "       [<matplotlib.axes._subplots.AxesSubplot object at 0x7f2047fb23c8>,\n",
              "        <matplotlib.axes._subplots.AxesSubplot object at 0x7f2047f63978>]],\n",
              "      dtype=object)"
            ]
          },
          "metadata": {
            "tags": []
          },
          "execution_count": 9
        },
        {
          "output_type": "display_data",
          "data": {
            "image/png": "[encoded data removed]",
            "text/plain": [
              "<Figure size 432x288 with 6 Axes>"
            ]
          },
          "metadata": {
            "tags": []
          }
        }
      ]
    },
    {
      "cell_type": "markdown",
      "metadata": {
        "id": "Wh8pzbhFbbN1",
        "colab_type": "text"
      },
      "source": [
        "** 6. Another way to look at the relationship between two variables is through scatter plots. Plot a scatter plot between GRE and chance of admit. **"
      ]
    },
    {
      "cell_type": "code",
      "metadata": {
        "id": "bznrAjthbbN2",
        "colab_type": "code",
        "outputId": "92b36927-ee32-4102-afbe-cde313c76ae9",
        "colab": {
          "base_uri": "https://localhost:8080/",
          "height": 297
        }
      },
      "source": [
        "student_data.plot.scatter(x= 'GRE', y='Admit')"
      ],
      "execution_count": 10,
      "outputs": [
        {
          "output_type": "execute_result",
          "data": {
            "text/plain": [
              "<matplotlib.axes._subplots.AxesSubplot at 0x7f2047e94780>"
            ]
          },
          "metadata": {
            "tags": []
          },
          "execution_count": 10
        },
        {
          "output_type": "display_data",
          "data": {
            "image/png": "[encoded data removed]",
            "text/plain": [
              "<Figure size 432x288 with 1 Axes>"
            ]
          },
          "metadata": {
            "tags": []
          }
        }
      ]
    },
    {
      "cell_type": "markdown",
      "metadata": {
        "id": "jpJJopMEbbN5",
        "colab_type": "text"
      },
      "source": [
        "** 7. Boxplots are also useful to look at the relationship between a categorical variable and a numeric variable. Plot a boxplot of chance of admit grouped by \"Research\". **"
      ]
    },
    {
      "cell_type": "code",
      "metadata": {
        "id": "umKq8v1jbbN6",
        "colab_type": "code",
        "outputId": "637de05d-46e9-4f77-847c-82c3c13f43f9",
        "colab": {
          "base_uri": "https://localhost:8080/",
          "height": 301
        }
      },
      "source": [
        "sns.boxplot(x = student_data['Research'], y= student_data['Admit'])"
      ],
      "execution_count": 11,
      "outputs": [
        {
          "output_type": "execute_result",
          "data": {
            "text/plain": [
              "<matplotlib.axes._subplots.AxesSubplot at 0x7f2047df7630>"
            ]
          },
          "metadata": {
            "tags": []
          },
          "execution_count": 11
        },
        {
          "output_type": "display_data",
          "data": {
            "image/png": "[encoded data removed]",
            "text/plain": [
              "<Figure size 432x288 with 1 Axes>"
            ]
          },
          "metadata": {
            "tags": []
          }
        }
      ]
    },
    {
      "cell_type": "markdown",
      "metadata": {
        "id": "9aWXDW9AbbN9",
        "colab_type": "text"
      },
      "source": [
        "** 8. Very often it is useful to quantify how strong is the relationship between different variables. For example, measures of correlation, such as Pearson's correlation coefficient, can show whether one numeric variable gives information on another numeric variable. Pandas allows us to compute the Pearson correlation coefficient between all pairs of columns in our dataframe. Display the correlations between all pairs of columns. **"
      ]
    },
    {
      "cell_type": "code",
      "metadata": {
        "id": "bHK9JthAbbN-",
        "colab_type": "code",
        "outputId": "4ad73de8-7ef2-4b1b-eb7d-8c8866f19aeb",
        "colab": {
          "base_uri": "https://localhost:8080/",
          "height": 294
        }
      },
      "source": [
        "student_corr = student_data.corr()\n",
        "student_corr\n"
      ],
      "execution_count": 12,
      "outputs": [
        {
          "output_type": "execute_result",
          "data": {
            "text/html": [
              "<div>\n",
              "<style scoped>\n",
              "    .dataframe tbody tr th:only-of-type {\n",
              "        vertical-align: middle;\n",
              "    }\n",
              "\n",
              "    .dataframe tbody tr th {\n",
              "        vertical-align: top;\n",
              "    }\n",
              "\n",
              "    .dataframe thead th {\n",
              "        text-align: right;\n",
              "    }\n",
              "</style>\n",
              "<table border=\"1\" class=\"dataframe\">\n",
              "  <thead>\n",
              "    <tr style=\"text-align: right;\">\n",
              "      <th></th>\n",
              "      <th>GRE</th>\n",
              "      <th>TOEFL</th>\n",
              "      <th>Rating</th>\n",
              "      <th>SOP</th>\n",
              "      <th>LOR</th>\n",
              "      <th>CGPA</th>\n",
              "      <th>Research</th>\n",
              "      <th>Admit</th>\n",
              "    </tr>\n",
              "  </thead>\n",
              "  <tbody>\n",
              "    <tr>\n",
              "      <th>GRE</th>\n",
              "      <td>1.000000</td>\n",
              "      <td>0.827200</td>\n",
              "      <td>0.635376</td>\n",
              "      <td>0.613498</td>\n",
              "      <td>0.524679</td>\n",
              "      <td>0.825878</td>\n",
              "      <td>0.563398</td>\n",
              "      <td>0.810351</td>\n",
              "    </tr>\n",
              "    <tr>\n",
              "      <th>TOEFL</th>\n",
              "      <td>0.827200</td>\n",
              "      <td>1.000000</td>\n",
              "      <td>0.649799</td>\n",
              "      <td>0.644410</td>\n",
              "      <td>0.541563</td>\n",
              "      <td>0.810574</td>\n",
              "      <td>0.467012</td>\n",
              "      <td>0.792228</td>\n",
              "    </tr>\n",
              "    <tr>\n",
              "      <th>Rating</th>\n",
              "      <td>0.635376</td>\n",
              "      <td>0.649799</td>\n",
              "      <td>1.000000</td>\n",
              "      <td>0.728024</td>\n",
              "      <td>0.608651</td>\n",
              "      <td>0.705254</td>\n",
              "      <td>0.427047</td>\n",
              "      <td>0.690132</td>\n",
              "    </tr>\n",
              "    <tr>\n",
              "      <th>SOP</th>\n",
              "      <td>0.613498</td>\n",
              "      <td>0.644410</td>\n",
              "      <td>0.728024</td>\n",
              "      <td>1.000000</td>\n",
              "      <td>0.663707</td>\n",
              "      <td>0.712154</td>\n",
              "      <td>0.408116</td>\n",
              "      <td>0.684137</td>\n",
              "    </tr>\n",
              "    <tr>\n",
              "      <th>LOR</th>\n",
              "      <td>0.524679</td>\n",
              "      <td>0.541563</td>\n",
              "      <td>0.608651</td>\n",
              "      <td>0.663707</td>\n",
              "      <td>1.000000</td>\n",
              "      <td>0.637469</td>\n",
              "      <td>0.372526</td>\n",
              "      <td>0.645365</td>\n",
              "    </tr>\n",
              "    <tr>\n",
              "      <th>CGPA</th>\n",
              "      <td>0.825878</td>\n",
              "      <td>0.810574</td>\n",
              "      <td>0.705254</td>\n",
              "      <td>0.712154</td>\n",
              "      <td>0.637469</td>\n",
              "      <td>1.000000</td>\n",
              "      <td>0.501311</td>\n",
              "      <td>0.882413</td>\n",
              "    </tr>\n",
              "    <tr>\n",
              "      <th>Research</th>\n",
              "      <td>0.563398</td>\n",
              "      <td>0.467012</td>\n",
              "      <td>0.427047</td>\n",
              "      <td>0.408116</td>\n",
              "      <td>0.372526</td>\n",
              "      <td>0.501311</td>\n",
              "      <td>1.000000</td>\n",
              "      <td>0.545871</td>\n",
              "    </tr>\n",
              "    <tr>\n",
              "      <th>Admit</th>\n",
              "      <td>0.810351</td>\n",
              "      <td>0.792228</td>\n",
              "      <td>0.690132</td>\n",
              "      <td>0.684137</td>\n",
              "      <td>0.645365</td>\n",
              "      <td>0.882413</td>\n",
              "      <td>0.545871</td>\n",
              "      <td>1.000000</td>\n",
              "    </tr>\n",
              "  </tbody>\n",
              "</table>\n",
              "</div>"
            ],
            "text/plain": [
              "               GRE     TOEFL    Rating  ...      CGPA  Research     Admit\n",
              "GRE       1.000000  0.827200  0.635376  ...  0.825878  0.563398  0.810351\n",
              "TOEFL     0.827200  1.000000  0.649799  ...  0.810574  0.467012  0.792228\n",
              "Rating    0.635376  0.649799  1.000000  ...  0.705254  0.427047  0.690132\n",
              "SOP       0.613498  0.644410  0.728024  ...  0.712154  0.408116  0.684137\n",
              "LOR       0.524679  0.541563  0.608651  ...  0.637469  0.372526  0.645365\n",
              "CGPA      0.825878  0.810574  0.705254  ...  1.000000  0.501311  0.882413\n",
              "Research  0.563398  0.467012  0.427047  ...  0.501311  1.000000  0.545871\n",
              "Admit     0.810351  0.792228  0.690132  ...  0.882413  0.545871  1.000000\n",
              "\n",
              "[8 rows x 8 columns]"
            ]
          },
          "metadata": {
            "tags": []
          },
          "execution_count": 12
        }
      ]
    },
    {
      "cell_type": "markdown",
      "metadata": {
        "id": "XV7Lk8QrbbOB",
        "colab_type": "text"
      },
      "source": [
        "** 9. Heatmaps are a tool for conveniently visualizing correlation data. Plot these correlations as a seaborn heatmap. Which pairs of variables are most closely correlated? Which variable gives the most information on chance of admit? **"
      ]
    },
    {
      "cell_type": "code",
      "metadata": {
        "id": "FCRKgT1EbbOB",
        "colab_type": "code",
        "outputId": "44c8582b-1804-412e-d305-4ae83fc0e827",
        "colab": {
          "base_uri": "https://localhost:8080/",
          "height": 323
        }
      },
      "source": [
        "sns.heatmap(student_corr)\n",
        "# Admission is the key variable to examine correlation, the variables that correlate highest with admission are GRE, TOEFL, and CGPA"
      ],
      "execution_count": 13,
      "outputs": [
        {
          "output_type": "execute_result",
          "data": {
            "text/plain": [
              "<matplotlib.axes._subplots.AxesSubplot at 0x7f2045584908>"
            ]
          },
          "metadata": {
            "tags": []
          },
          "execution_count": 13
        },
        {
          "output_type": "display_data",
          "data": {
            "image/png": "[encoded data removed]",
            "text/plain": [
              "<Figure size 432x288 with 2 Axes>"
            ]
          },
          "metadata": {
            "tags": []
          }
        }
      ]
    },
    {
      "cell_type": "markdown",
      "metadata": {
        "id": "XW9niUh9bbOG",
        "colab_type": "text"
      },
      "source": [
        "The most correlated variables are GPA and Chance of Admit. GPA seems to be the most informative variable."
      ]
    },
    {
      "cell_type": "markdown",
      "metadata": {
        "id": "w4zK-2YKbbOH",
        "colab_type": "text"
      },
      "source": [
        "** 10. Following the example in class, build a linear model to predict the chance of admit using the application info available. Generate predictions and compare predicted quality to the actual value in a scatter plot. **"
      ]
    },
    {
      "cell_type": "code",
      "metadata": {
        "id": "cC3lnJhvbbOI",
        "colab_type": "code",
        "outputId": "90b2a392-66ef-4a89-bbe2-8eaf1e804c10",
        "colab": {
          "base_uri": "https://localhost:8080/",
          "height": 297
        }
      },
      "source": [
        "from sklearn import  linear_model\n",
        "from sklearn import metrics\n",
        "\n",
        "line_model = linear_model.Lasso(alpha = 0.01)\n",
        "features = [\"GRE\", \"TOEFL\", \"Rating\", \"SOP\", \"LOR\", \"CGPA\", \"Research\"]\n",
        "target = 'Admit'\n",
        "\n",
        "line_model.fit(student_data[features], student_data[target])\n",
        "\n",
        "pd.DataFrame([dict(zip(features, line_model.coef_))])\n",
        "preds = line_model.predict(student_data[features])\n",
        "prediciton_df = student_data.assign(predictions = preds)\n",
        "prediciton_df.plot.scatter(x = 'Admit', y= 'predictions')"
      ],
      "execution_count": 31,
      "outputs": [
        {
          "output_type": "execute_result",
          "data": {
            "text/plain": [
              "<matplotlib.axes._subplots.AxesSubplot at 0x7f203e60ad68>"
            ]
          },
          "metadata": {
            "tags": []
          },
          "execution_count": 31
        },
        {
          "output_type": "display_data",
          "data": {
            "image/png": "[encoded data removed]",
            "text/plain": [
              "<Figure size 432x288 with 1 Axes>"
            ]
          },
          "metadata": {
            "tags": []
          }
        }
      ]
    },
    {
      "cell_type": "code",
      "metadata": {
        "id": "gi-3awckXb6O",
        "colab_type": "code",
        "colab": {
          "base_uri": "https://localhost:8080/",
          "height": 35
        },
        "outputId": "6d7c6153-532b-4a18-c577-042f2ee34cb5"
      },
      "source": [
        "print (\"Accuracy = %.3f\" % (metrics.explained_variance_score(line_model.predict(prediciton_df[features]), prediciton_df['Admit'])) )"
      ],
      "execution_count": 33,
      "outputs": [
        {
          "output_type": "stream",
          "text": [
            "Accuracy = 0.679\n"
          ],
          "name": "stdout"
        }
      ]
    },
    {
      "cell_type": "markdown",
      "metadata": {
        "id": "M2YOpovzbbOL",
        "colab_type": "text"
      },
      "source": [
        "** 11. (Extra Points, Optional) There are many different types of predictive models, each with their own plusses and minuses. For this task, repeat your modeling performed in step 8, but using a sklearn.ensemble.RandomForestRegressor. How does the scatter plot compare with the prior results? **"
      ]
    },
    {
      "cell_type": "code",
      "metadata": {
        "id": "cju0xvXKbbOL",
        "colab_type": "code",
        "outputId": "0bc90a1d-88c8-43fb-ebec-236c6f6bab94",
        "colab": {
          "base_uri": "https://localhost:8080/",
          "height": 297
        }
      },
      "source": [
        "from sklearn.ensemble import RandomForestRegressor\n",
        "from sklearn.datasets import make_regression\n",
        "\n",
        "\n",
        "x = student_data[features]\n",
        "y = student_data[target]\n",
        "\n",
        "rf_reg = RandomForestRegressor(random_state = 1, n_estimators = 7)\n",
        "\n",
        "rf_reg.fit(x, y)\n",
        "\n",
        "rf_preds = rf_reg.predict(student_data[features])\n",
        "rf_prediction_df = student_data.assign(predicitions = rf_preds)\n",
        "rf_prediction_df.plot.scatter(x = 'Admit', y = 'predicitions')"
      ],
      "execution_count": 22,
      "outputs": [
        {
          "output_type": "execute_result",
          "data": {
            "text/plain": [
              "<matplotlib.axes._subplots.AxesSubplot at 0x7f203e98d400>"
            ]
          },
          "metadata": {
            "tags": []
          },
          "execution_count": 22
        },
        {
          "output_type": "display_data",
          "data": {
            "image/png": "[encoded data removed]",
            "text/plain": [
              "<Figure size 432x288 with 1 Axes>"
            ]
          },
          "metadata": {
            "tags": []
          }
        }
      ]
    },
    {
      "cell_type": "markdown",
      "metadata": {
        "id": "eefTOJlrbbOO",
        "colab_type": "text"
      },
      "source": [
        "This scatter plot shows better predictions, but as we saw in the previous class, the model could be overfitting."
      ]
    },
    {
      "cell_type": "code",
      "metadata": {
        "id": "CIC2u8-iOTb2",
        "colab_type": "code",
        "colab": {
          "base_uri": "https://localhost:8080/",
          "height": 35
        },
        "outputId": "83c9834f-9f26-4db8-8093-d49abc27878b"
      },
      "source": [
        "print (\"Accuracy = %.3f\" % (metrics.explained_variance_score(rf_reg.predict(rf_prediction_df[features]), rf_prediction_df['Admit'])) )"
      ],
      "execution_count": 28,
      "outputs": [
        {
          "output_type": "stream",
          "text": [
            "Accuracy = 0.945\n"
          ],
          "name": "stdout"
        }
      ]
    },
    {
      "cell_type": "code",
      "metadata": {
        "id": "JwoFcUGkWONN",
        "colab_type": "code",
        "colab": {}
      },
      "source": [
        ""
      ],
      "execution_count": 0,
      "outputs": []
    }
  ]
}