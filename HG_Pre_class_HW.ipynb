{
  "nbformat": 4,
  "nbformat_minor": 0,
  "metadata": {
    "kernelspec": {
      "display_name": "Python 3",
      "language": "python",
      "name": "python3"
    },
    "language_info": {
      "codemirror_mode": {
        "name": "ipython",
        "version": 3
      },
      "file_extension": ".py",
      "mimetype": "text/x-python",
      "name": "python",
      "nbconvert_exporter": "python",
      "pygments_lexer": "ipython3",
      "version": "3.6.9"
    },
    "colab": {
      "name": "HG Pre-class HW.ipynb",
      "provenance": [],
      "collapsed_sections": [],
      "include_colab_link": true
    }
  },
  "cells": [
    {
      "cell_type": "markdown",
      "metadata": {
        "id": "view-in-github",
        "colab_type": "text"
      },
      "source": [
        "<a href=\"https://colab.research.google.com/github/HarrisonGrubb/DataScienceForBusinessAnalytics/blob/master/HG_Pre_class_HW.ipynb\" target=\"_parent\"><img src=\"https://colab.research.google.com/assets/colab-badge.svg\" alt=\"Open In Colab\"/></a>"
      ]
    },
    {
      "cell_type": "markdown",
      "metadata": {
        "id": "3KJno-itdNdf",
        "colab_type": "text"
      },
      "source": [
        "To open notebook in Colab please click below:\n",
        "\n",
        "<a href=\"https://colab.research.google.com/github/bwolfson2/foster_2020/blob/master/Homeworks/Pre-class%20HW.ipynb\" target=\"_parent\"> <img src=\"https://colab.research.google.com/assets/colab-badge.svg\" alt=\"Open In Colab\" /> </a>'\n"
      ]
    },
    {
      "cell_type": "markdown",
      "metadata": {
        "id": "_SVSDmzwdNdl",
        "colab_type": "text"
      },
      "source": [
        "# Pre-class Homework - Survey and Python review\n",
        "\n",
        "Welcome to the course! The purpose of this homework is to get to know you better and warm up your Python skills before the first class. Make sure to check out the referesher in Module0_Basics if it has been a while since the last time you coded. \n",
        "\n",
        "Please upload your completed notebook to NYU Classes."
      ]
    },
    {
      "cell_type": "markdown",
      "metadata": {
        "id": "E3QW9CLYdNdn",
        "colab_type": "text"
      },
      "source": [
        "## Part 0: I have gone through the [Colab Basics Jupyter Notebook](https://github.com/bwolfson2/foster_2020/blob/master/Module0_Basics/Colab%20Basics.ipynb)"
      ]
    },
    {
      "cell_type": "markdown",
      "metadata": {
        "id": "CRe7hQu9dNdp",
        "colab_type": "text"
      },
      "source": [
        "** Mark \"Yes\" below. **"
      ]
    },
    {
      "cell_type": "markdown",
      "metadata": {
        "id": "Uj0KsqfLdNdr",
        "colab_type": "text"
      },
      "source": [
        "Yes  I saved this Colab notebook and deleted the relevant cell above\n",
        "\n",
        "Yes  I have read and understood the Colab notebook"
      ]
    },
    {
      "cell_type": "markdown",
      "metadata": {
        "id": "XKvpVx2_dNdr",
        "colab_type": "text"
      },
      "source": [
        "## Part 1: Know the course"
      ]
    },
    {
      "cell_type": "markdown",
      "metadata": {
        "id": "DKRk6xH2dNds",
        "colab_type": "text"
      },
      "source": [
        "** 1.1 Read the syllabus (available on NYU classes) in its entirety. Mark \"Yes\" below. **"
      ]
    },
    {
      "cell_type": "markdown",
      "metadata": {
        "id": "fZid6iJBdNdt",
        "colab_type": "text"
      },
      "source": [
        "Yes I have read and understood the syllabus for this class."
      ]
    },
    {
      "cell_type": "markdown",
      "metadata": {
        "id": "FyFhi9GqdNdu",
        "colab_type": "text"
      },
      "source": [
        "## Part 2: Let us know you better"
      ]
    },
    {
      "cell_type": "markdown",
      "metadata": {
        "id": "ftju2-VldNdv",
        "colab_type": "text"
      },
      "source": [
        "** 2.1 Please go to this [link](https://forms.gle/z4fwcPfZ5Kpjck5h9) and fill the survey. Mark \"Yes\" below. **"
      ]
    },
    {
      "cell_type": "markdown",
      "metadata": {
        "id": "8bfqpAqCdNdw",
        "colab_type": "text"
      },
      "source": [
        "Yes  I have read and filled the survey for this class."
      ]
    },
    {
      "cell_type": "markdown",
      "metadata": {
        "id": "JsHOBa4cdNdx",
        "colab_type": "text"
      },
      "source": [
        "## Part 3: Python review"
      ]
    },
    {
      "cell_type": "markdown",
      "metadata": {
        "id": "WI5Uk_kZdNdy",
        "colab_type": "text"
      },
      "source": [
        "**3.1 Create one Python list of 5 fruits and another one with 5 colors. **"
      ]
    },
    {
      "cell_type": "code",
      "metadata": {
        "id": "eAdk1fOEdNdy",
        "colab_type": "code",
        "colab": {}
      },
      "source": [
        "fruits = ['apple', 'pear', 'peach', 'grape', 'lime']\n",
        "colors = ['red', 'yellow', 'pink', 'purple', 'green']"
      ],
      "execution_count": 0,
      "outputs": []
    },
    {
      "cell_type": "markdown",
      "metadata": {
        "id": "EXA5hDW1dNd2",
        "colab_type": "text"
      },
      "source": [
        "**3.2 Go through each fruit (first list) and print out the name of the fruit with one color of the second list without repeating any color. **\n",
        "\n",
        "(don't worry, it doesn't have to be the color of the fruit!)\n",
        "\n",
        "Example of what you should print for one fruit:  _apple is purple_"
      ]
    },
    {
      "cell_type": "code",
      "metadata": {
        "id": "KtHF4jQVdNd2",
        "colab_type": "code",
        "outputId": "1ec5cb43-f0c9-469e-8c91-b922e6bd83db",
        "colab": {
          "base_uri": "https://localhost:8080/",
          "height": 102
        }
      },
      "source": [
        "for item in range(0,len(fruits)):\n",
        "  print('The', fruits[item], 'is', colors[item])\n",
        "  "
      ],
      "execution_count": 2,
      "outputs": [
        {
          "output_type": "stream",
          "text": [
            "The apple is red\n",
            "The pear is yellow\n",
            "The peach is pink\n",
            "The grape is purple\n",
            "The lime is green\n"
          ],
          "name": "stdout"
        }
      ]
    },
    {
      "cell_type": "markdown",
      "metadata": {
        "id": "OaR9PKewdNd7",
        "colab_type": "text"
      },
      "source": [
        "**3.3 Add two new fruits to your list with a _BUILT-IN_ function. **\n",
        "\n",
        "(You may want to look for the function with the **TAB** hint!)"
      ]
    },
    {
      "cell_type": "code",
      "metadata": {
        "id": "p9wOmlTDdNd8",
        "colab_type": "code",
        "outputId": "d2f36cfc-58a3-4168-e418-317d551e0194",
        "colab": {
          "base_uri": "https://localhost:8080/",
          "height": 34
        }
      },
      "source": [
        "fruits.extend(('lemons', 'oranges'))\n",
        "print(fruits)"
      ],
      "execution_count": 0,
      "outputs": [
        {
          "output_type": "stream",
          "text": [
            "['apple', 'pear', 'peach', 'grape', 'lime', 'lemons', 'oranges']\n"
          ],
          "name": "stdout"
        }
      ]
    },
    {
      "cell_type": "markdown",
      "metadata": {
        "id": "oZNVgiIVdNd_",
        "colab_type": "text"
      },
      "source": [
        "**3.4 Use the list of fruits and sort the names (put them in alphabetical order). **\n",
        "\n",
        "(Hint: The lists in Python already have a function for that)"
      ]
    },
    {
      "cell_type": "code",
      "metadata": {
        "id": "sLjNghqzdNd_",
        "colab_type": "code",
        "outputId": "3787cf1c-c347-4262-b881-c0767bc0c8cf",
        "colab": {
          "base_uri": "https://localhost:8080/",
          "height": 34
        }
      },
      "source": [
        "fruits.sort()\n",
        "print(fruits)"
      ],
      "execution_count": 0,
      "outputs": [
        {
          "output_type": "stream",
          "text": [
            "['apple', 'grape', 'lemons', 'lime', 'oranges', 'peach', 'pear']\n"
          ],
          "name": "stdout"
        }
      ]
    },
    {
      "cell_type": "markdown",
      "metadata": {
        "id": "L0HA5FnJdNeC",
        "colab_type": "text"
      },
      "source": [
        "**3.5 Create a new empty list called \"count_letters\". Go through your list of fruits, and for each one, add an entry to that new list (count_letters) telling the number of letters each fruit name. Then, print how many letters each fruit has.**\n",
        "\n",
        "Example of what you should print for one fruit: _apple is 5 letters_"
      ]
    },
    {
      "cell_type": "code",
      "metadata": {
        "id": "qUyVC2cJdNeC",
        "colab_type": "code",
        "outputId": "982c1229-cd3d-4180-a319-55d7118e9314",
        "colab": {
          "base_uri": "https://localhost:8080/",
          "height": 136
        }
      },
      "source": [
        "count_letters = []\n",
        "for item in range(0,len(fruits)):\n",
        "  count_letters.append(len(fruits[item]))\n",
        "  print(fruits[item], 'is', count_letters[item], 'letters' )\n",
        "  "
      ],
      "execution_count": 0,
      "outputs": [
        {
          "output_type": "stream",
          "text": [
            "apple is 5 letters\n",
            "grape is 5 letters\n",
            "lemons is 6 letters\n",
            "lime is 4 letters\n",
            "oranges is 7 letters\n",
            "peach is 5 letters\n",
            "pear is 4 letters\n"
          ],
          "name": "stdout"
        }
      ]
    },
    {
      "cell_type": "markdown",
      "metadata": {
        "id": "40IcAK9vdNeG",
        "colab_type": "text"
      },
      "source": [
        "** 3.6 Make a function called `one_more` that takes a list (input_list) and returns a new list (output_list) where each element of the original will be increased by 1 and divided by 2. **"
      ]
    },
    {
      "cell_type": "code",
      "metadata": {
        "id": "pKhmgF9ndNeH",
        "colab_type": "code",
        "colab": {}
      },
      "source": [
        "def one_more(input_list):\n",
        "    output_list = []   \n",
        "    for item in input_list:\n",
        "      output_list.append((item + 1)/2)\n",
        "    \n",
        "    return output_list"
      ],
      "execution_count": 0,
      "outputs": []
    },
    {
      "cell_type": "code",
      "metadata": {
        "id": "5jsDMwDKRF4z",
        "colab_type": "code",
        "colab": {
          "base_uri": "https://localhost:8080/",
          "height": 34
        },
        "outputId": "a753fd72-95cc-4ff1-ec3b-9db441dd347f"
      },
      "source": [
        "test_list = [4, 8, 12, 16]\n",
        "print(one_more(test_list))"
      ],
      "execution_count": 7,
      "outputs": [
        {
          "output_type": "stream",
          "text": [
            "[2.5, 4.5, 6.5, 8.5]\n"
          ],
          "name": "stdout"
        }
      ]
    },
    {
      "cell_type": "markdown",
      "metadata": {
        "id": "5uEMv3gBdNeJ",
        "colab_type": "text"
      },
      "source": [
        "** 3.7 Use the previous function to change the value of a list of 10 random numbers. **"
      ]
    },
    {
      "cell_type": "markdown",
      "metadata": {
        "collapsed": true,
        "id": "Xe29lmk8dNeM",
        "colab_type": "text"
      },
      "source": [
        "# To submit the homework save it to your google drive (see Part 0), download it and upload to NYU Classes under assignments\n",
        "\n"
      ]
    },
    {
      "cell_type": "code",
      "metadata": {
        "id": "b0jzxG31dNeN",
        "colab_type": "code",
        "colab": {}
      },
      "source": [
        ""
      ],
      "execution_count": 0,
      "outputs": []
    }
  ]
}